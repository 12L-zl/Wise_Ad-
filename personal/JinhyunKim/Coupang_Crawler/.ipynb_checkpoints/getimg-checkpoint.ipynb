{
 "cells": [
  {
   "cell_type": "code",
   "execution_count": 1,
   "id": "fc98b677",
   "metadata": {},
   "outputs": [],
   "source": [
    "from libs.COUPANG.getUrl import *\n",
    "from libs.COUPANG.getInfo import *\n",
    "import os\n",
    "import json\n",
    "from urllib.request import urlretrieve, urlopen\n",
    "import re"
   ]
  },
  {
   "cell_type": "code",
   "execution_count": 3,
   "id": "3a520c7f",
   "metadata": {},
   "outputs": [
    {
     "ename": "SyntaxError",
     "evalue": "invalid syntax (1952529285.py, line 3)",
     "output_type": "error",
     "traceback": [
      "\u001b[1;36m  Cell \u001b[1;32mIn[3], line 3\u001b[1;36m\u001b[0m\n\u001b[1;33m    cleaned_t\"itle = re.sub(r'[\\/:*?\"<>|\\s]', '', title)\u001b[0m\n\u001b[1;37m             ^\u001b[0m\n\u001b[1;31mSyntaxError\u001b[0m\u001b[1;31m:\u001b[0m invalid syntax\n"
     ]
    }
   ],
   "source": [
    "def clean_filename(title):\n",
    "    # 파일 이름에서 특수 문자와 공백을 제거하는 함수\n",
    "    cleaned_t\"itle = re.sub(r'[\\/:*?\"<>|\\s]', '', title)\n",
    "    return cleaned_title"
   ]
  },
  {
   "cell_type": "code",
   "execution_count": 4,
   "id": "7107fff8",
   "metadata": {},
   "outputs": [],
   "source": [
    "def extract_jpeg_urls(soup):\n",
    "    # HTML 내용에서 '.jpeg' URL을 추출하는 함수\n",
    "    # Convert the soup object to a string\n",
    "    html_content = str(soup)\n",
    "\n",
    "    # Use regular expression to find all occurrences of \"origin\":\"//(image URL).jpeg\"\n",
    "    # and capture only the //(image URL).jpeg part\n",
    "    matches = re.findall(r'\"origin\":\"(//[^\"]+\\.jpeg)\"', html_content)\n",
    "\n",
    "    # Return the list of extracted .jpeg URLs\n",
    "    return matches"
   ]
  },
  {
   "cell_type": "code",
   "execution_count": 6,
   "id": "6f373a58",
   "metadata": {},
   "outputs": [
    {
     "ename": "NameError",
     "evalue": "name 'clean_filename' is not defined",
     "output_type": "error",
     "traceback": [
      "\u001b[1;31m---------------------------------------------------------------------------\u001b[0m",
      "\u001b[1;31mNameError\u001b[0m                                 Traceback (most recent call last)",
      "Cell \u001b[1;32mIn[6], line 3\u001b[0m\n\u001b[0;32m      1\u001b[0m link \u001b[38;5;241m=\u001b[39m \u001b[38;5;124m'\u001b[39m\u001b[38;5;124mhttps://www.coupang.com/vp/products/7572885536?itemId=19975262188&vendorItemId=87073688588&sourceType=CATEGORY&categoryId=502895&isAddedCart=\u001b[39m\u001b[38;5;124m'\u001b[39m\n\u001b[0;32m      2\u001b[0m \u001b[38;5;66;03m# 현재 행의 'Link' 값을 가져옴\u001b[39;00m\n\u001b[1;32m----> 3\u001b[0m name \u001b[38;5;241m=\u001b[39m clean_filename(\u001b[38;5;124m'\u001b[39m\u001b[38;5;124mtestaes2\u001b[39m\u001b[38;5;124m'\u001b[39m)\n\u001b[0;32m      4\u001b[0m \u001b[38;5;66;03m# 'Name' 값을 정제하여 파일 이름으로 사용\u001b[39;00m\n\u001b[0;32m      6\u001b[0m text \u001b[38;5;241m=\u001b[39m getres(link)\n",
      "\u001b[1;31mNameError\u001b[0m: name 'clean_filename' is not defined"
     ]
    }
   ],
   "source": [
    "link = 'https://www.coupang.com/vp/products/7572885536?itemId=19975262188&vendorItemId=87073688588&sourceType=CATEGORY&categoryId=502895&isAddedCart='\n",
    "# 현재 행의 'Link' 값을 가져옴\n",
    "name = clean_filename('testaes2')\n",
    "# 'Name' 값을 정제하여 파일 이름으로 사용\n",
    "\n",
    "text = getres(link)\n",
    "# 링크로부터 HTML 내용을 가져옴\n",
    "soup = BeautifulSoup(text, 'html5lib')\n",
    "# BeautifulSoup을 사용하여 HTML 파싱\n",
    "jpeg_urls = extract_jpeg_urls(soup)\n",
    "# 파싱된 HTML에서 JPEG URL 추출\n",
    "\n",
    "for url in jpeg_urls:\n",
    "    # 추출된 JPEG URL들을 순회\n",
    "    filename = url.split('/')[-1]\n",
    "    # URL의 마지막 부분을 파일명으로 사용\n",
    "\n",
    "    fdir = f'.//data//sweatshirt//{name}'\n",
    "    # 저장할 디렉토리 경로 설정\n",
    "    if not os.path.exists(fdir):\n",
    "        # 디렉토리가 존재하지 않으면 새로 생성\n",
    "        os.makedirs(fdir)\n",
    "\n",
    "    file_path = os.path.join(fdir, filename)\n",
    "    # 최종 파일 경로 조합\n",
    "    urlretrieve(url, file_path)\n",
    "    # 이미지를 다운로드하여 지정된 경로에 저장\n",
    "    print(f\"Downloaded {filename}\")\n",
    "    # 다운로드 완료 메시지 출력"
   ]
  },
  {
   "cell_type": "code",
   "execution_count": null,
   "id": "7cc32a23",
   "metadata": {},
   "outputs": [],
   "source": []
  }
 ],
 "metadata": {
  "kernelspec": {
   "display_name": "Python 3 (ipykernel)",
   "language": "python",
   "name": "python3"
  },
  "language_info": {
   "codemirror_mode": {
    "name": "ipython",
    "version": 3
   },
   "file_extension": ".py",
   "mimetype": "text/x-python",
   "name": "python",
   "nbconvert_exporter": "python",
   "pygments_lexer": "ipython3",
   "version": "3.11.5"
  }
 },
 "nbformat": 4,
 "nbformat_minor": 5
}
