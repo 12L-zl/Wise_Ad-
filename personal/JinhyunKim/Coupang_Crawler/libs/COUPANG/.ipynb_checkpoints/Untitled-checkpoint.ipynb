{
 "cells": [
  {
   "cell_type": "code",
   "execution_count": 3,
   "id": "703f2b3e",
   "metadata": {},
   "outputs": [
    {
     "ename": "ModuleNotFoundError",
     "evalue": "No module named 'libs.COUPANG'",
     "output_type": "error",
     "traceback": [
      "\u001b[1;31m---------------------------------------------------------------------------\u001b[0m",
      "\u001b[1;31mModuleNotFoundError\u001b[0m                       Traceback (most recent call last)",
      "Cell \u001b[1;32mIn[3], line 2\u001b[0m\n\u001b[0;32m      1\u001b[0m \u001b[38;5;28;01mfrom\u001b[39;00m \u001b[38;5;21;01mgetUrl\u001b[39;00m \u001b[38;5;28;01mimport\u001b[39;00m \u001b[38;5;241m*\u001b[39m\n\u001b[1;32m----> 2\u001b[0m \u001b[38;5;28;01mfrom\u001b[39;00m \u001b[38;5;21;01mgetInfo\u001b[39;00m \u001b[38;5;28;01mimport\u001b[39;00m \u001b[38;5;241m*\u001b[39m\n\u001b[0;32m      3\u001b[0m \u001b[38;5;28;01mimport\u001b[39;00m \u001b[38;5;21;01mos\u001b[39;00m\n\u001b[0;32m      4\u001b[0m \u001b[38;5;28;01mimport\u001b[39;00m \u001b[38;5;21;01mjson\u001b[39;00m\n",
      "File \u001b[1;32m~\\Desktop\\GitHub\\KUSW\\personal\\JinhyunKim\\Coupang_Crawler\\libs\\COUPANG\\getInfo.py:2\u001b[0m\n\u001b[0;32m      1\u001b[0m \u001b[38;5;28;01mfrom\u001b[39;00m \u001b[38;5;21;01mbs4\u001b[39;00m \u001b[38;5;28;01mimport\u001b[39;00m BeautifulSoup\n\u001b[1;32m----> 2\u001b[0m \u001b[38;5;28;01mfrom\u001b[39;00m \u001b[38;5;21;01mlibs\u001b[39;00m\u001b[38;5;21;01m.\u001b[39;00m\u001b[38;5;21;01mCOUPANG\u001b[39;00m\u001b[38;5;21;01m.\u001b[39;00m\u001b[38;5;21;01mgetUrl\u001b[39;00m \u001b[38;5;28;01mimport\u001b[39;00m getres\n\u001b[0;32m      3\u001b[0m \u001b[38;5;28;01mimport\u001b[39;00m \u001b[38;5;21;01mpandas\u001b[39;00m \u001b[38;5;28;01mas\u001b[39;00m \u001b[38;5;21;01mpd\u001b[39;00m\n\u001b[0;32m      5\u001b[0m namelist \u001b[38;5;241m=\u001b[39m \u001b[38;5;28mlist\u001b[39m()\n",
      "\u001b[1;31mModuleNotFoundError\u001b[0m: No module named 'libs.COUPANG'"
     ]
    }
   ],
   "source": [
    "from libs.COUPANG.getUrl import *\n",
    "from libs.COUPANG.getInfo import *\n",
    "import os\n",
    "import json\n",
    "from urllib.request import urlretrieve, urlopen\n",
    "import re"
   ]
  },
  {
   "cell_type": "code",
   "execution_count": null,
   "id": "4dcd28ed",
   "metadata": {},
   "outputs": [],
   "source": [
    "link = 'https://www.coupang.com/vp/products/7572885536?itemId=19975262188&vendorItemId=87073688588&sourceType=CATEGORY&categoryId=502895&isAddedCart='\n",
    "# 현재 행의 'Link' 값을 가져옴\n",
    "name = clean_filename(row['Name'])\n",
    "# 'Name' 값을 정제하여 파일 이름으로 사용\n",
    "\n",
    "text = getres(link)\n",
    "# 링크로부터 HTML 내용을 가져옴\n",
    "soup = BeautifulSoup(text, 'html5lib')\n",
    "# BeautifulSoup을 사용하여 HTML 파싱\n",
    "jpeg_urls = extract_jpeg_urls(soup)\n",
    "# 파싱된 HTML에서 JPEG URL 추출\n",
    "\n",
    "for url in jpeg_urls:\n",
    "    # 추출된 JPEG URL들을 순회\n",
    "    filename = url.split('/')[-1]\n",
    "    # URL의 마지막 부분을 파일명으로 사용\n",
    "\n",
    "    fdir = f'.//data//sweatshirt//{name}'\n",
    "    # 저장할 디렉토리 경로 설정\n",
    "    if not os.path.exists(fdir):\n",
    "        # 디렉토리가 존재하지 않으면 새로 생성\n",
    "        os.makedirs(fdir)\n",
    "\n",
    "    file_path = os.path.join(fdir, filename)\n",
    "    # 최종 파일 경로 조합\n",
    "    urlretrieve(url, file_path)\n",
    "    # 이미지를 다운로드하여 지정된 경로에 저장\n",
    "    print(f\"Downloaded {filename}\")\n",
    "    # 다운로드 완료 메시지 출력"
   ]
  },
  {
   "cell_type": "code",
   "execution_count": null,
   "id": "cf84876e",
   "metadata": {},
   "outputs": [],
   "source": []
  }
 ],
 "metadata": {
  "kernelspec": {
   "display_name": "Python 3 (ipykernel)",
   "language": "python",
   "name": "python3"
  },
  "language_info": {
   "codemirror_mode": {
    "name": "ipython",
    "version": 3
   },
   "file_extension": ".py",
   "mimetype": "text/x-python",
   "name": "python",
   "nbconvert_exporter": "python",
   "pygments_lexer": "ipython3",
   "version": "3.11.5"
  }
 },
 "nbformat": 4,
 "nbformat_minor": 5
}
