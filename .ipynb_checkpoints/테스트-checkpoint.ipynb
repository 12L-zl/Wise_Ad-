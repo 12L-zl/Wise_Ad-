{
 "cells": [
  {
   "cell_type": "code",
   "execution_count": null,
   "id": "33db8647",
   "metadata": {},
   "outputs": [],
   "source": [
    "테스트"
   ]
  }
 ],
 "metadata": {
  "kernelspec": {
   "display_name": "Python 3 (ipykernel)",
   "language": "python",
   "name": "python3"
  }
 },
 "nbformat": 4,
 "nbformat_minor": 5
}
